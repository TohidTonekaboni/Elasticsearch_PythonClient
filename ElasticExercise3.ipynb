{
 "cells": [
  {
   "cell_type": "code",
   "execution_count": 1,
   "id": "95efd704",
   "metadata": {},
   "outputs": [],
   "source": [
    "from elasticsearch import Elasticsearch\n",
    "es = Elasticsearch([{\"Host\":'localhost','port':9200}])"
   ]
  },
  {
   "cell_type": "code",
   "execution_count": 2,
   "id": "37cb7a1b",
   "metadata": {},
   "outputs": [],
   "source": [
    "doc1 = {\"city\":\"Tehran\",\"country\":\"Iran\",\"datetime\":\"2018,01,01,10,20,00\"}\n",
    "doc2 = {\"city\":\"London\",\"country\":\"England\",\"datetime\":\"2018,01,02,03,12,00\"}\n",
    "doc3 = {\"city\":\"Los Angles\",\"country\":\"USA\",\"datetime\":\"2018,04,19,21,02,00\"}"
   ]
  },
  {
   "cell_type": "code",
   "execution_count": 3,
   "id": "47b03cf2",
   "metadata": {},
   "outputs": [],
   "source": [
    "def print_all_index(es):\n",
    "    indexList = es.indices.get_alias('*')\n",
    "    for ind in indexList:\n",
    "        print(ind)"
   ]
  },
  {
   "cell_type": "code",
   "execution_count": 11,
   "id": "71d42f89",
   "metadata": {},
   "outputs": [
    {
     "name": "stdout",
     "output_type": "stream",
     "text": [
      "exdb-records-000001\n",
      "history-000001\n",
      "users\n",
      "travel\n",
      "user-fields\n",
      "exdb\n"
     ]
    }
   ],
   "source": [
    "print_all_index(es)"
   ]
  },
  {
   "cell_type": "code",
   "execution_count": 10,
   "id": "3b40e42f",
   "metadata": {},
   "outputs": [
    {
     "name": "stderr",
     "output_type": "stream",
     "text": [
      "C:\\Users\\T.Tonekaboni\\anaconda3\\envs\\MyEnv\\lib\\site-packages\\elasticsearch\\connection\\base.py:208: ElasticsearchWarning: Elasticsearch built-in security features are not enabled. Without authentication, your cluster could be accessible to anyone. See https://www.elastic.co/guide/en/elasticsearch/reference/7.14/security-minimal-setup.html to enable security.\n",
      "  warnings.warn(message, category=ElasticsearchWarning)\n",
      "C:\\Users\\T.Tonekaboni\\anaconda3\\envs\\MyEnv\\lib\\site-packages\\elasticsearch\\connection\\base.py:208: ElasticsearchWarning: [types removal] Specifying types in document index requests is deprecated, use the typeless endpoints instead (/{index}/_doc/{id}, /{index}/_doc, or /{index}/_create/{id}).\n",
      "  warnings.warn(message, category=ElasticsearchWarning)\n"
     ]
    },
    {
     "data": {
      "text/plain": [
       "{'_index': 'travel',\n",
       " '_type': 'cities',\n",
       " '_id': '1',\n",
       " '_version': 1,\n",
       " 'result': 'created',\n",
       " '_shards': {'total': 2, 'successful': 1, 'failed': 0},\n",
       " '_seq_no': 0,\n",
       " '_primary_term': 1}"
      ]
     },
     "execution_count": 10,
     "metadata": {},
     "output_type": "execute_result"
    }
   ],
   "source": [
    "es.index(index='travel',doc_type='cities',id=1,body = doc1)"
   ]
  },
  {
   "cell_type": "code",
   "execution_count": null,
   "id": "8b1de4a6",
   "metadata": {},
   "outputs": [],
   "source": []
  }
 ],
 "metadata": {
  "kernelspec": {
   "display_name": "Python 3 (ipykernel)",
   "language": "python",
   "name": "python3"
  },
  "language_info": {
   "codemirror_mode": {
    "name": "ipython",
    "version": 3
   },
   "file_extension": ".py",
   "mimetype": "text/x-python",
   "name": "python",
   "nbconvert_exporter": "python",
   "pygments_lexer": "ipython3",
   "version": "3.10.6"
  }
 },
 "nbformat": 4,
 "nbformat_minor": 5
}
