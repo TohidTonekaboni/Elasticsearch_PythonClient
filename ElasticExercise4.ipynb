{
 "cells": [
  {
   "cell_type": "code",
   "execution_count": 1,
   "id": "3d188476",
   "metadata": {},
   "outputs": [],
   "source": [
    "from elasticsearch import Elasticsearch ,helpers\n",
    "es = Elasticsearch([{\"Host\":'localhost','port':9200}])\n",
    "from datetime import datetime\n",
    "import time"
   ]
  },
  {
   "cell_type": "code",
   "execution_count": 2,
   "id": "aff7777c",
   "metadata": {},
   "outputs": [],
   "source": [
    "def print_all_index(es):\n",
    "    indexList = es.indices.get_alias('*')\n",
    "    for ind in indexList:\n",
    "        print(ind)"
   ]
  },
  {
   "cell_type": "code",
   "execution_count": 3,
   "id": "bfe748d2",
   "metadata": {},
   "outputs": [
    {
     "name": "stdout",
     "output_type": "stream",
     "text": [
      "history-000002\n",
      "users\n",
      "exdb\n",
      "exdb-records-000001\n",
      "exdb-records-000002\n",
      "travel\n",
      "user-fields\n",
      "history-000001\n"
     ]
    },
    {
     "name": "stderr",
     "output_type": "stream",
     "text": [
      "C:\\Users\\T.Tonekaboni\\anaconda3\\envs\\MyEnv\\lib\\site-packages\\elasticsearch\\connection\\base.py:208: ElasticsearchWarning: Elasticsearch built-in security features are not enabled. Without authentication, your cluster could be accessible to anyone. See https://www.elastic.co/guide/en/elasticsearch/reference/7.14/security-minimal-setup.html to enable security.\n",
      "  warnings.warn(message, category=ElasticsearchWarning)\n"
     ]
    }
   ],
   "source": [
    "print_all_index(es)"
   ]
  },
  {
   "cell_type": "code",
   "execution_count": 4,
   "id": "8fc566d0",
   "metadata": {},
   "outputs": [],
   "source": [
    "res = helpers.scan(es,index = \"travel\",doc_type = \"cities\",query = {\"query\":{\"match_all\":{}}})"
   ]
  },
  {
   "cell_type": "code",
   "execution_count": 5,
   "id": "ed890912",
   "metadata": {},
   "outputs": [
    {
     "name": "stdout",
     "output_type": "stream",
     "text": [
      "1 {'city': 'Tehran', 'country': 'Iran', 'datetime': '2018,01,01,10,20,00'}\n"
     ]
    },
    {
     "name": "stderr",
     "output_type": "stream",
     "text": [
      "C:\\Users\\T.Tonekaboni\\anaconda3\\envs\\MyEnv\\lib\\site-packages\\elasticsearch\\connection\\base.py:208: ElasticsearchWarning: Elasticsearch built-in security features are not enabled. Without authentication, your cluster could be accessible to anyone. See https://www.elastic.co/guide/en/elasticsearch/reference/7.14/security-minimal-setup.html to enable security.\n",
      "  warnings.warn(message, category=ElasticsearchWarning)\n",
      "C:\\Users\\T.Tonekaboni\\anaconda3\\envs\\MyEnv\\lib\\site-packages\\elasticsearch\\connection\\base.py:208: ElasticsearchWarning: [types removal] Specifying types in search requests is deprecated.\n",
      "  warnings.warn(message, category=ElasticsearchWarning)\n"
     ]
    }
   ],
   "source": [
    "for item in res:\n",
    "    print(item['_id'],item['_source'])"
   ]
  },
  {
   "cell_type": "code",
   "execution_count": null,
   "id": "8a1d86f7",
   "metadata": {},
   "outputs": [],
   "source": []
  }
 ],
 "metadata": {
  "kernelspec": {
   "display_name": "Python 3 (ipykernel)",
   "language": "python",
   "name": "python3"
  },
  "language_info": {
   "codemirror_mode": {
    "name": "ipython",
    "version": 3
   },
   "file_extension": ".py",
   "mimetype": "text/x-python",
   "name": "python",
   "nbconvert_exporter": "python",
   "pygments_lexer": "ipython3",
   "version": "3.10.6"
  }
 },
 "nbformat": 4,
 "nbformat_minor": 5
}
