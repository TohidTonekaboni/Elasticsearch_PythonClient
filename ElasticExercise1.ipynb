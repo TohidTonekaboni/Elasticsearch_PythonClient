{
 "cells": [
  {
   "cell_type": "code",
   "execution_count": 1,
   "id": "40543a19",
   "metadata": {},
   "outputs": [],
   "source": [
    "from elasticsearch import Elasticsearch"
   ]
  },
  {
   "cell_type": "code",
   "execution_count": 2,
   "id": "9454259b",
   "metadata": {},
   "outputs": [],
   "source": [
    "es = Elasticsearch([{\"Host\":'localhost','port':9200}])"
   ]
  },
  {
   "cell_type": "code",
   "execution_count": null,
   "id": "83c24a79",
   "metadata": {},
   "outputs": [],
   "source": [
    "es"
   ]
  },
  {
   "cell_type": "code",
   "execution_count": 3,
   "id": "1041cdc9",
   "metadata": {},
   "outputs": [],
   "source": [
    "def print_all_index(es):\n",
    "    indexList = es.indices.get_alias('*')\n",
    "    for ind in indexList:\n",
    "        print(ind)"
   ]
  },
  {
   "cell_type": "code",
   "execution_count": 6,
   "id": "d3d1b472",
   "metadata": {},
   "outputs": [
    {
     "name": "stdout",
     "output_type": "stream",
     "text": [
      "exdb-records-000001\n",
      "history-000001\n",
      "users\n",
      "user-fields\n",
      "exdb\n"
     ]
    }
   ],
   "source": [
    "print_all_index(es)"
   ]
  },
  {
   "cell_type": "code",
   "execution_count": 7,
   "id": "9cba6706",
   "metadata": {},
   "outputs": [
    {
     "name": "stderr",
     "output_type": "stream",
     "text": [
      "C:\\Users\\T.Tonekaboni\\anaconda3\\envs\\MyEnv\\lib\\site-packages\\elasticsearch\\connection\\base.py:208: ElasticsearchWarning: Elasticsearch built-in security features are not enabled. Without authentication, your cluster could be accessible to anyone. See https://www.elastic.co/guide/en/elasticsearch/reference/7.14/security-minimal-setup.html to enable security.\n",
      "  warnings.warn(message, category=ElasticsearchWarning)\n"
     ]
    },
    {
     "data": {
      "text/plain": [
       "{'acknowledged': True, 'shards_acknowledged': True, 'index': 'first_index'}"
      ]
     },
     "execution_count": 7,
     "metadata": {},
     "output_type": "execute_result"
    }
   ],
   "source": [
    "es.indices.create(index='first_index',ignore=400)"
   ]
  },
  {
   "cell_type": "code",
   "execution_count": 8,
   "id": "9d3b0a84",
   "metadata": {},
   "outputs": [
    {
     "name": "stdout",
     "output_type": "stream",
     "text": [
      "exdb-records-000001\n",
      "history-000001\n",
      "users\n",
      "first_index\n",
      "user-fields\n",
      "exdb\n"
     ]
    }
   ],
   "source": [
    "print_all_index(es)"
   ]
  },
  {
   "cell_type": "code",
   "execution_count": 9,
   "id": "feaf8dd6",
   "metadata": {},
   "outputs": [
    {
     "name": "stderr",
     "output_type": "stream",
     "text": [
      "C:\\Users\\T.Tonekaboni\\anaconda3\\envs\\MyEnv\\lib\\site-packages\\elasticsearch\\connection\\base.py:208: ElasticsearchWarning: Elasticsearch built-in security features are not enabled. Without authentication, your cluster could be accessible to anyone. See https://www.elastic.co/guide/en/elasticsearch/reference/7.14/security-minimal-setup.html to enable security.\n",
      "  warnings.warn(message, category=ElasticsearchWarning)\n"
     ]
    },
    {
     "data": {
      "text/plain": [
       "{'acknowledged': True}"
      ]
     },
     "execution_count": 9,
     "metadata": {},
     "output_type": "execute_result"
    }
   ],
   "source": [
    "es.indices.delete(index='first_index')"
   ]
  },
  {
   "cell_type": "code",
   "execution_count": 10,
   "id": "0e73cc76",
   "metadata": {},
   "outputs": [
    {
     "name": "stdout",
     "output_type": "stream",
     "text": [
      "exdb-records-000001\n",
      "history-000001\n",
      "users\n",
      "user-fields\n",
      "exdb\n"
     ]
    }
   ],
   "source": [
    "print_all_index(es)"
   ]
  },
  {
   "cell_type": "code",
   "execution_count": 11,
   "id": "0efafd5f",
   "metadata": {},
   "outputs": [],
   "source": [
    "doc1 = {\"city\":\"Tehran\",\"country\":\"Iran\"}\n",
    "doc2 = {\"city\":\"London\",\"country\":\"England\"}\n",
    "doc3 = {\"city\":\"Los Angles\",\"country\":\"USA\"}"
   ]
  },
  {
   "cell_type": "code",
   "execution_count": 12,
   "id": "5e89b7dc",
   "metadata": {},
   "outputs": [
    {
     "name": "stderr",
     "output_type": "stream",
     "text": [
      "C:\\Users\\T.Tonekaboni\\anaconda3\\envs\\MyEnv\\lib\\site-packages\\elasticsearch\\connection\\base.py:208: ElasticsearchWarning: Elasticsearch built-in security features are not enabled. Without authentication, your cluster could be accessible to anyone. See https://www.elastic.co/guide/en/elasticsearch/reference/7.14/security-minimal-setup.html to enable security.\n",
      "  warnings.warn(message, category=ElasticsearchWarning)\n",
      "C:\\Users\\T.Tonekaboni\\anaconda3\\envs\\MyEnv\\lib\\site-packages\\elasticsearch\\connection\\base.py:208: ElasticsearchWarning: [types removal] Specifying types in document index requests is deprecated, use the typeless endpoints instead (/{index}/_doc/{id}, /{index}/_doc, or /{index}/_create/{id}).\n",
      "  warnings.warn(message, category=ElasticsearchWarning)\n"
     ]
    },
    {
     "data": {
      "text/plain": [
       "{'_index': 'cities',\n",
       " '_type': 'places',\n",
       " '_id': '3',\n",
       " '_version': 1,\n",
       " 'result': 'created',\n",
       " '_shards': {'total': 2, 'successful': 1, 'failed': 0},\n",
       " '_seq_no': 2,\n",
       " '_primary_term': 1}"
      ]
     },
     "execution_count": 12,
     "metadata": {},
     "output_type": "execute_result"
    }
   ],
   "source": [
    "es.index(index='cities',doc_type=\"places\",id=1,body=doc1)\n",
    "es.index(index='cities',doc_type=\"places\",id=2,body=doc2)\n",
    "es.index(index='cities',doc_type=\"places\",id=3,body=doc3)"
   ]
  },
  {
   "cell_type": "code",
   "execution_count": 13,
   "id": "86d5bbd5",
   "metadata": {},
   "outputs": [],
   "source": [
    "doc_list = [doc1,doc2,doc3]"
   ]
  },
  {
   "cell_type": "code",
   "execution_count": 22,
   "id": "79b05751",
   "metadata": {},
   "outputs": [
    {
     "name": "stderr",
     "output_type": "stream",
     "text": [
      "C:\\Users\\T.Tonekaboni\\anaconda3\\envs\\MyEnv\\lib\\site-packages\\elasticsearch\\connection\\base.py:208: ElasticsearchWarning: Elasticsearch built-in security features are not enabled. Without authentication, your cluster could be accessible to anyone. See https://www.elastic.co/guide/en/elasticsearch/reference/7.14/security-minimal-setup.html to enable security.\n",
      "  warnings.warn(message, category=ElasticsearchWarning)\n",
      "C:\\Users\\T.Tonekaboni\\anaconda3\\envs\\MyEnv\\lib\\site-packages\\elasticsearch\\connection\\base.py:208: ElasticsearchWarning: [types removal] Specifying types in document get requests is deprecated, use the /{index}/_doc/{id} endpoint instead.\n",
      "  warnings.warn(message, category=ElasticsearchWarning)\n"
     ]
    },
    {
     "data": {
      "text/plain": [
       "{'_index': 'cities',\n",
       " '_type': 'places',\n",
       " '_id': '2',\n",
       " '_version': 1,\n",
       " '_seq_no': 1,\n",
       " '_primary_term': 1,\n",
       " 'found': True,\n",
       " '_source': {'city': 'London', 'country': 'England'}}"
      ]
     },
     "execution_count": 22,
     "metadata": {},
     "output_type": "execute_result"
    }
   ],
   "source": [
    "res = es.get(index='cities',doc_type=\"places\",id=2)\n",
    "res"
   ]
  },
  {
   "cell_type": "code",
   "execution_count": 36,
   "id": "c7376936",
   "metadata": {},
   "outputs": [],
   "source": [
    "res = es.count(index='cities',doc_type=\"places\")['count']"
   ]
  },
  {
   "cell_type": "code",
   "execution_count": null,
   "id": "d9ec14c2",
   "metadata": {},
   "outputs": [],
   "source": []
  }
 ],
 "metadata": {
  "kernelspec": {
   "display_name": "Python 3 (ipykernel)",
   "language": "python",
   "name": "python3"
  },
  "language_info": {
   "codemirror_mode": {
    "name": "ipython",
    "version": 3
   },
   "file_extension": ".py",
   "mimetype": "text/x-python",
   "name": "python",
   "nbconvert_exporter": "python",
   "pygments_lexer": "ipython3",
   "version": "3.10.6"
  }
 },
 "nbformat": 4,
 "nbformat_minor": 5
}
